{
 "cells": [
  {
   "attachments": {},
   "cell_type": "markdown",
   "metadata": {},
   "source": [
    "<a id=\"0\"></a>\n",
    "\n",
    "# <p style=\"padding:10px;background-color:#87CEEB ;margin:10;color:#000000;font-family:newtimeroman;font-size:100%;text-align:center;border-radius: 10px 10px ;overflow:hidden;font-weight:50\">AWS Lambda API usage in python- Utkarsh Gaikwad</p>"
   ]
  },
  {
   "attachments": {},
   "cell_type": "markdown",
   "metadata": {},
   "source": [
    "## Step 1 : Specify API url and Youtube Channel URL to scrape"
   ]
  },
  {
   "cell_type": "code",
   "execution_count": 1,
   "metadata": {},
   "outputs": [],
   "source": [
    "# API url string\n",
    "api_url = \"https://8rkvysfczg.execute-api.us-east-1.amazonaws.com/yt_scrapper_utkarsh\"\n",
    "# YT url to scrape should be passed as a dictionary as below format\n",
    "yt_url = {'url':'https://www.youtube.com/@PW-Foundation/videos'}"
   ]
  },
  {
   "attachments": {},
   "cell_type": "markdown",
   "metadata": {},
   "source": [
    "## Step 2 : Create Post Request with above data"
   ]
  },
  {
   "cell_type": "code",
   "execution_count": 2,
   "metadata": {},
   "outputs": [
    {
     "data": {
      "text/plain": [
       "<Response [200]>"
      ]
     },
     "execution_count": 2,
     "metadata": {},
     "output_type": "execute_result"
    }
   ],
   "source": [
    "import requests\n",
    "response = requests.post(api_url,json=yt_url)\n",
    "response"
   ]
  },
  {
   "attachments": {},
   "cell_type": "markdown",
   "metadata": {},
   "source": [
    "## Step 3: View the JSON Response"
   ]
  },
  {
   "cell_type": "code",
   "execution_count": 3,
   "metadata": {},
   "outputs": [
    {
     "data": {
      "text/plain": [
       "{'url_provided': 'https://www.youtube.com/@PW-Foundation/videos',\n",
       " 'channel_title': 'Physics Wallah Foundation - YouTube',\n",
       " 'output': {'title': ['How to Attempt English Board Exam ????',\n",
       "   'Best technique to attempt SST paper in Board exam || Class 10th',\n",
       "   'Last Minute Strategy To Score More Than 98% || ICSE Boards || Class-10th',\n",
       "   'Why You Should Choose Commerce After 10th? || Complete Information💯',\n",
       "   \"Follow This Plan To Score More Than 95% in Boards || Topper's Strategy\"],\n",
       "  'reltime': ['1 day ago',\n",
       "   '2 days ago',\n",
       "   '3 days ago',\n",
       "   '4 days ago',\n",
       "   '9 days ago'],\n",
       "  'views': ['116K views', '54K views', '22K views', '28K views', '312K views'],\n",
       "  'videoURL': ['https://www.youtube.com/watch?v=nX5ONgCdLcc',\n",
       "   'https://www.youtube.com/watch?v=AM2Dt7cNebw',\n",
       "   'https://www.youtube.com/watch?v=7nMJVhey9TM',\n",
       "   'https://www.youtube.com/watch?v=FSVVlcFUCMk',\n",
       "   'https://www.youtube.com/watch?v=vKxdTuOirnI'],\n",
       "  'thumbnailURL': ['https://i.ytimg.com/vi/nX5ONgCdLcc/hqdefault.jpg?sqp=-oaymwEcCNACELwBSFXyq4qpAw4IARUAAIhCGAFwAcABBg==&rs=AOn4CLBaa_KLfKyYbUYRsb5xf0YCp1YrlQ',\n",
       "   'https://i.ytimg.com/vi/AM2Dt7cNebw/hqdefault.jpg?sqp=-oaymwEcCNACELwBSFXyq4qpAw4IARUAAIhCGAFwAcABBg==&rs=AOn4CLBJHWHabeJ94dcUDlDDNfvQxnUfJg',\n",
       "   'https://i.ytimg.com/vi/7nMJVhey9TM/hqdefault.jpg?sqp=-oaymwEcCNACELwBSFXyq4qpAw4IARUAAIhCGAFwAcABBg==&rs=AOn4CLDHikOj7gH4eQNudv7c1qNbwcMWyA',\n",
       "   'https://i.ytimg.com/vi/FSVVlcFUCMk/hqdefault.jpg?sqp=-oaymwEcCNACELwBSFXyq4qpAw4IARUAAIhCGAFwAcABBg==&rs=AOn4CLAadJS9mLtZptLHtKHEefPgqk3NCg',\n",
       "   'https://i.ytimg.com/vi/vKxdTuOirnI/hqdefault.jpg?sqp=-oaymwEcCNACELwBSFXyq4qpAw4IARUAAIhCGAFwAcABBg==&rs=AOn4CLBonfyIr0oe5WzFo2o2hoU5Yxbv8w']}}"
      ]
     },
     "execution_count": 3,
     "metadata": {},
     "output_type": "execute_result"
    }
   ],
   "source": [
    "dct = response.json()\n",
    "dct"
   ]
  },
  {
   "attachments": {},
   "cell_type": "markdown",
   "metadata": {},
   "source": [
    "## Step 4: Manipulating Data using pandas and viewing dataframe"
   ]
  },
  {
   "cell_type": "code",
   "execution_count": 4,
   "metadata": {},
   "outputs": [
    {
     "data": {
      "text/html": [
       "<div>\n",
       "<style scoped>\n",
       "    .dataframe tbody tr th:only-of-type {\n",
       "        vertical-align: middle;\n",
       "    }\n",
       "\n",
       "    .dataframe tbody tr th {\n",
       "        vertical-align: top;\n",
       "    }\n",
       "\n",
       "    .dataframe thead th {\n",
       "        text-align: right;\n",
       "    }\n",
       "</style>\n",
       "<table border=\"1\" class=\"dataframe\">\n",
       "  <thead>\n",
       "    <tr style=\"text-align: right;\">\n",
       "      <th></th>\n",
       "      <th>title</th>\n",
       "      <th>reltime</th>\n",
       "      <th>views</th>\n",
       "      <th>videoURL</th>\n",
       "      <th>thumbnailURL</th>\n",
       "    </tr>\n",
       "  </thead>\n",
       "  <tbody>\n",
       "    <tr>\n",
       "      <th>0</th>\n",
       "      <td>How to Attempt English Board Exam ????</td>\n",
       "      <td>1 day ago</td>\n",
       "      <td>116K views</td>\n",
       "      <td>https://www.youtube.com/watch?v=nX5ONgCdLcc</td>\n",
       "      <td>https://i.ytimg.com/vi/nX5ONgCdLcc/hqdefault.j...</td>\n",
       "    </tr>\n",
       "    <tr>\n",
       "      <th>1</th>\n",
       "      <td>Best technique to attempt SST paper in Board e...</td>\n",
       "      <td>2 days ago</td>\n",
       "      <td>54K views</td>\n",
       "      <td>https://www.youtube.com/watch?v=AM2Dt7cNebw</td>\n",
       "      <td>https://i.ytimg.com/vi/AM2Dt7cNebw/hqdefault.j...</td>\n",
       "    </tr>\n",
       "    <tr>\n",
       "      <th>2</th>\n",
       "      <td>Last Minute Strategy To Score More Than 98% ||...</td>\n",
       "      <td>3 days ago</td>\n",
       "      <td>22K views</td>\n",
       "      <td>https://www.youtube.com/watch?v=7nMJVhey9TM</td>\n",
       "      <td>https://i.ytimg.com/vi/7nMJVhey9TM/hqdefault.j...</td>\n",
       "    </tr>\n",
       "    <tr>\n",
       "      <th>3</th>\n",
       "      <td>Why You Should Choose Commerce After 10th? || ...</td>\n",
       "      <td>4 days ago</td>\n",
       "      <td>28K views</td>\n",
       "      <td>https://www.youtube.com/watch?v=FSVVlcFUCMk</td>\n",
       "      <td>https://i.ytimg.com/vi/FSVVlcFUCMk/hqdefault.j...</td>\n",
       "    </tr>\n",
       "    <tr>\n",
       "      <th>4</th>\n",
       "      <td>Follow This Plan To Score More Than 95% in Boa...</td>\n",
       "      <td>9 days ago</td>\n",
       "      <td>312K views</td>\n",
       "      <td>https://www.youtube.com/watch?v=vKxdTuOirnI</td>\n",
       "      <td>https://i.ytimg.com/vi/vKxdTuOirnI/hqdefault.j...</td>\n",
       "    </tr>\n",
       "  </tbody>\n",
       "</table>\n",
       "</div>"
      ],
      "text/plain": [
       "                                               title     reltime       views  \\\n",
       "0             How to Attempt English Board Exam ????   1 day ago  116K views   \n",
       "1  Best technique to attempt SST paper in Board e...  2 days ago   54K views   \n",
       "2  Last Minute Strategy To Score More Than 98% ||...  3 days ago   22K views   \n",
       "3  Why You Should Choose Commerce After 10th? || ...  4 days ago   28K views   \n",
       "4  Follow This Plan To Score More Than 95% in Boa...  9 days ago  312K views   \n",
       "\n",
       "                                      videoURL  \\\n",
       "0  https://www.youtube.com/watch?v=nX5ONgCdLcc   \n",
       "1  https://www.youtube.com/watch?v=AM2Dt7cNebw   \n",
       "2  https://www.youtube.com/watch?v=7nMJVhey9TM   \n",
       "3  https://www.youtube.com/watch?v=FSVVlcFUCMk   \n",
       "4  https://www.youtube.com/watch?v=vKxdTuOirnI   \n",
       "\n",
       "                                        thumbnailURL  \n",
       "0  https://i.ytimg.com/vi/nX5ONgCdLcc/hqdefault.j...  \n",
       "1  https://i.ytimg.com/vi/AM2Dt7cNebw/hqdefault.j...  \n",
       "2  https://i.ytimg.com/vi/7nMJVhey9TM/hqdefault.j...  \n",
       "3  https://i.ytimg.com/vi/FSVVlcFUCMk/hqdefault.j...  \n",
       "4  https://i.ytimg.com/vi/vKxdTuOirnI/hqdefault.j...  "
      ]
     },
     "execution_count": 4,
     "metadata": {},
     "output_type": "execute_result"
    }
   ],
   "source": [
    "import pandas as pd\n",
    "df_yt = pd.DataFrame(dct['output'])\n",
    "df_yt"
   ]
  },
  {
   "attachments": {},
   "cell_type": "markdown",
   "metadata": {},
   "source": [
    "# Conclusion : You can do further manipulaltion to data and can also save into pymongo Database if required"
   ]
  }
 ],
 "metadata": {
  "kernelspec": {
   "display_name": "Python 3",
   "language": "python",
   "name": "python3"
  },
  "language_info": {
   "codemirror_mode": {
    "name": "ipython",
    "version": 3
   },
   "file_extension": ".py",
   "mimetype": "text/x-python",
   "name": "python",
   "nbconvert_exporter": "python",
   "pygments_lexer": "ipython3",
   "version": "3.10.7"
  },
  "orig_nbformat": 4,
  "vscode": {
   "interpreter": {
    "hash": "1f898c8ed36297dce8c229ae85b2ee768c4784e990e7fd80095da327c5e90807"
   }
  }
 },
 "nbformat": 4,
 "nbformat_minor": 2
}
